{
 "cells": [
  {
   "cell_type": "code",
   "execution_count": 3,
   "metadata": {},
   "outputs": [],
   "source": [
    "from NOTEARS_PFL import utils\n",
    "from NOTEARS_PFL.postprocess import postprocess\n",
    "from NOTEARS_PFL.notears_PFL import notears_PFL\n",
    "import torch\n",
    "import torch.nn as nn\n",
    "import numpy as np"
   ]
  },
  {
   "cell_type": "code",
   "outputs": [],
   "source": [
    "    # Configuration of torch\n",
    "    torch.set_default_dtype(torch.double)\n",
    "    # Generate data\n",
    "    utils.set_random_seed(1)\n",
    "    K ,rhod,d,s0,n= 10, 0.1, 30, 30,100\n",
    "    graph_type, sem_type = 'ER', 'gauss'\n",
    "    rho=0.1\n",
    "    B_bin_true = utils.simulate_dags_PFL(d, s0, K, rho, graph_type)\n",
    "    B_true = []\n",
    "    Xs = np.zeros((K, n, d))\n",
    "    for k in range(K):\n",
    "        W_true_k = utils.simulate_parameter(B_bin_true[k])\n",
    "        B_true.append(W_true_k)\n",
    "    # initial x\n",
    "        Xs[k, :, :] = utils.simulate_linear_sem(W_true_k, n, sem_type)\n",
    "    print(Xs)"
   ],
   "metadata": {
    "collapsed": false
   }
  },
  {
   "cell_type": "code",
   "outputs": [],
   "source": [
    "    # Run NOTEARS-PFL\n",
    "    B_est = notears_PFL(Xs, lambda1=0.01, lambda2=0.01, verbose=False)\n",
    "    for k in range(K):\n",
    "        B_processed = postprocess(B_est[k], threshold=0.3)\n",
    "        acc = utils.count_accuracy(B_bin_true[k], B_processed!=0)\n",
    "        print(acc)"
   ],
   "metadata": {
    "collapsed": false
   }
  }
 ],
 "metadata": {
  "kernelspec": {
   "display_name": "Python 3",
   "language": "python",
   "name": "python3"
  },
  "language_info": {
   "codemirror_mode": {
    "name": "ipython",
    "version": 3
   },
   "file_extension": ".py",
   "mimetype": "text/x-python",
   "name": "python",
   "nbconvert_exporter": "python",
   "pygments_lexer": "ipython3",
   "version": "3.8.10"
  }
 },
 "nbformat": 4,
 "nbformat_minor": 2
}
